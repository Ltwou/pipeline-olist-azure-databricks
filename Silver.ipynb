{
 "cells": [
  {
   "cell_type": "markdown",
   "metadata": {
    "application/vnd.databricks.v1+cell": {
     "cellMetadata": {
      "byteLimit": 2048000,
      "rowLimit": 10000
     },
     "inputWidgets": {},
     "nuid": "635ff559-74aa-4fa3-894f-70493668629e",
     "showTitle": false,
     "tableResultSettingsMap": {},
     "title": ""
    }
   },
   "source": [
    "### importando funcoes"
   ]
  },
  {
   "cell_type": "code",
   "execution_count": 0,
   "metadata": {
    "application/vnd.databricks.v1+cell": {
     "cellMetadata": {
      "byteLimit": 2048000,
      "rowLimit": 10000
     },
     "collapsed": true,
     "inputWidgets": {},
     "nuid": "0453a3e9-c0ba-42fd-b332-2f0501758e3c",
     "showTitle": false,
     "tableResultSettingsMap": {},
     "title": ""
    }
   },
   "outputs": [],
   "source": [
    "from pyspark.sql.functions import col, initcap, when, to_timestamp, regexp_replace\n",
    "from pyspark.sql.types import DecimalType\n",
    "from delta.tables import DeltaTable"
   ]
  },
  {
   "cell_type": "markdown",
   "metadata": {
    "application/vnd.databricks.v1+cell": {
     "cellMetadata": {
      "byteLimit": 2048000,
      "rowLimit": 10000
     },
     "inputWidgets": {},
     "nuid": "d888f0c1-e6af-4ade-8eb0-a9f7be28bcd4",
     "showTitle": false,
     "tableResultSettingsMap": {},
     "title": ""
    }
   },
   "source": [
    "### tratamento tabela customers"
   ]
  },
  {
   "cell_type": "code",
   "execution_count": 0,
   "metadata": {
    "application/vnd.databricks.v1+cell": {
     "cellMetadata": {
      "byteLimit": 2048000,
      "rowLimit": 10000
     },
     "inputWidgets": {},
     "nuid": "453582e4-5955-41fd-b7d1-051a8ff9d011",
     "showTitle": false,
     "tableResultSettingsMap": {},
     "title": ""
    }
   },
   "outputs": [],
   "source": [
    "# lê as camadas \n",
    "bronze_path = \"dbfs:/mnt/olist/Bronze/olist_customers_dataset\"\n",
    "silver_path = \"dbfs:/mnt/olist/Silver/olist_customers_dataset\"\n",
    "\n",
    "df_customers_bronze = spark.read.parquet(bronze_path)\n",
    "\n",
    "# transformações\n",
    "df_customers_bronze = (\n",
    "    df_customers_bronze\n",
    "    .withColumnRenamed('customer_id', 'cliente_id')\n",
    "    .withColumnRenamed('customer_unique_id', 'id_unico_cliente')\n",
    "    .withColumnRenamed('customer_zip_code_prefix', 'prefixo_cep')\n",
    "    .withColumnRenamed('customer_city', 'cidade')\n",
    "    .withColumnRenamed('customer_state', 'estado')\n",
    ")\n",
    "\n",
    "if DeltaTable.isDeltaTable(spark, silver_path):\n",
    "    df_customer_silver = DeltaTable.forPath(spark, silver_path)\n",
    "    df_customer_silver.alias(\"silver\").merge(df_customers_bronze.alias(\"bronze\"),\"silver.cliente_id = bronze.cliente_id\"\n",
    "        ).whenMatchedUpdateAll() \\\n",
    "        .whenNotMatchedInsertAll() \\\n",
    "        .execute()\n",
    "else:\n",
    "    df_customers_bronze.write.format(\"delta\").mode(\"overwrite\").save(silver_path)\n",
    "\n",
    "#display(spark.read.format(\"delta\").load(\"dbfs:/mnt/olist/Silver/olist_customers_dataset\"))"
   ]
  },
  {
   "cell_type": "markdown",
   "metadata": {
    "application/vnd.databricks.v1+cell": {
     "cellMetadata": {
      "byteLimit": 2048000,
      "rowLimit": 10000
     },
     "inputWidgets": {},
     "nuid": "4250f839-e8e8-4c0b-b25e-29ad1de97725",
     "showTitle": false,
     "tableResultSettingsMap": {},
     "title": ""
    }
   },
   "source": [
    "### tratamento tabela geolocation"
   ]
  },
  {
   "cell_type": "code",
   "execution_count": 0,
   "metadata": {
    "application/vnd.databricks.v1+cell": {
     "cellMetadata": {
      "byteLimit": 2048000,
      "rowLimit": 10000
     },
     "collapsed": true,
     "inputWidgets": {},
     "nuid": "a1c4b28a-25c8-4153-a0e9-f1d3585947a8",
     "showTitle": false,
     "tableResultSettingsMap": {},
     "title": ""
    }
   },
   "outputs": [],
   "source": [
    "\n",
    "# lê as camadas \n",
    "bronze_path = \"dbfs:/mnt/olist/Bronze/olist_geolocation_dataset\"\n",
    "silver_path = \"dbfs:/mnt/olist/Silver/olist_geolocation_dataset\"\n",
    "\n",
    "df_geolocation_bronze = spark.read.parquet(bronze_path)\n",
    "\n",
    "# transformações\n",
    "df_geolocation_bronze = (\n",
    "    df_geolocation_bronze\n",
    "    .withColumnRenamed(\"geolocation_zip_code_prefix\", \"prefixo_cep\")\n",
    "    .withColumnRenamed(\"geolocation_lat\", \"latitude\")\n",
    "    .withColumnRenamed(\"geolocation_lng\", \"longitude\")\n",
    "    .withColumnRenamed(\"geolocation_city\", \"cidade\")\n",
    "    .withColumnRenamed(\"geolocation_state\", \"estado\")\n",
    "    .withColumn(\"latitude\", col(\"latitude\").cast(DecimalType(18, 15)))\n",
    "    .withColumn(\"longitude\", col(\"longitude\").cast(DecimalType(18, 15)))\n",
    "    .withColumn(\"cidade\", initcap(col(\"cidade\")))\n",
    ")\n",
    "\n",
    "df_geolocation_bronze = df_geolocation_bronze.dropDuplicates([\"prefixo_cep\", \"latitude\", \"longitude\"])\n",
    "\n",
    "if DeltaTable.isDeltaTable(spark, silver_path):\n",
    "    df_geolocation_silver = DeltaTable.forPath(spark, silver_path)\n",
    "    df_geolocation_silver.alias(\"silver\").merge(df_geolocation_bronze.alias(\"bronze\"),\"silver.longitude = bronze.longitude AND silver.latitude = bronze.latitude AND silver.     prefixo_cep = bronze.prefixo_cep\"\n",
    "        ).whenMatchedUpdateAll() \\\n",
    "        .whenNotMatchedInsertAll() \\\n",
    "        .execute()\n",
    "else:\n",
    "    df_geolocation_bronze.write.format(\"delta\").mode(\"overwrite\").save(silver_path)\n",
    "\n",
    "#display(spark.read.format(\"delta\").load(\"dbfs:/mnt/olist/Silver/olist_geolocation_dataset\"))"
   ]
  },
  {
   "cell_type": "markdown",
   "metadata": {
    "application/vnd.databricks.v1+cell": {
     "cellMetadata": {
      "byteLimit": 2048000,
      "rowLimit": 10000
     },
     "inputWidgets": {},
     "nuid": "00ad4ab3-1a3d-438a-909c-688bc7861558",
     "showTitle": false,
     "tableResultSettingsMap": {},
     "title": ""
    }
   },
   "source": [
    "### tratamento tabela orders_itens"
   ]
  },
  {
   "cell_type": "code",
   "execution_count": 0,
   "metadata": {
    "application/vnd.databricks.v1+cell": {
     "cellMetadata": {
      "byteLimit": 2048000,
      "rowLimit": 10000
     },
     "collapsed": true,
     "inputWidgets": {},
     "nuid": "56c417ef-bfea-49d9-9698-bcf1025f20fe",
     "showTitle": false,
     "tableResultSettingsMap": {},
     "title": ""
    }
   },
   "outputs": [],
   "source": [
    "# lê as camadas \n",
    "bronze_path = \"dbfs:/mnt/olist/Bronze/olist_order_items_dataset\"\n",
    "silver_path = \"dbfs:/mnt/olist/Silver/olist_order_items_dataset\"\n",
    "\n",
    "df_orders_items_bronze = spark.read.parquet(bronze_path)\n",
    "\n",
    "['order_id',\n",
    " 'order_item_id',\n",
    " 'product_id',\n",
    " 'seller_id',\n",
    " 'shipping_limit_date',\n",
    " 'price',\n",
    " 'freight_value']\n",
    "\n",
    "# transformações\n",
    "df_orders_items_bronze = (\n",
    "    df_orders_items_bronze\n",
    "    .withColumnRenamed(\"order_id\", \"pedido_id\")\n",
    "    .withColumnRenamed(\"order_item_id\", \"pedido_item_id\")\n",
    "    .withColumnRenamed(\"product_id\", \"produto_id\")\n",
    "    .withColumnRenamed(\"seller_id\", \"vendedor_id\")\n",
    "    .withColumnRenamed(\"shipping_limit_date\", \"data_limite_envio\")\n",
    "    .withColumnRenamed(\"price\", \"preco\")\n",
    "    .withColumnRenamed(\"freight_value\", \"valor_frete\")\n",
    "    .withColumn(\"preco\", col(\"preco\").cast(DecimalType(10, 2)))\n",
    "    .withColumn(\"valor_frete\", col(\"valor_frete\").cast(DecimalType(10, 2)))\n",
    "    \n",
    ")\n",
    "\n",
    "#df_orders_items_bronze = df_orders_items_bronze.dropDuplicates([\"prefixo_cep\", \"latitude\", \"longitude\"])\n",
    "\n",
    "if DeltaTable.isDeltaTable(spark, silver_path):\n",
    "    df_orders_items_silver = DeltaTable.forPath(spark, silver_path)\n",
    "    df_orders_items_silver.alias(\"silver\").merge(df_orders_items_bronze.alias(\"bronze\"),\"silver.pedido_id = bronze.pedido_id AND silver.pedido_item_id = bronze.pedido_item_id\"\n",
    "        ).whenMatchedUpdateAll() \\\n",
    "        .whenNotMatchedInsertAll() \\\n",
    "        .execute()\n",
    "else:\n",
    "    df_orders_items_bronze.write.format(\"delta\").mode(\"overwrite\").save(silver_path)\n",
    "\n",
    "#display(spark.read.format(\"delta\").load(\"dbfs:/mnt/olist/Silver/olist_order_items_dataset\"))"
   ]
  },
  {
   "cell_type": "markdown",
   "metadata": {
    "application/vnd.databricks.v1+cell": {
     "cellMetadata": {
      "byteLimit": 2048000,
      "rowLimit": 10000
     },
     "inputWidgets": {},
     "nuid": "173ac9a1-7ba0-4ec6-b7ec-15712ddbe17e",
     "showTitle": false,
     "tableResultSettingsMap": {},
     "title": ""
    }
   },
   "source": [
    "### tratamento tabela payment"
   ]
  },
  {
   "cell_type": "code",
   "execution_count": 0,
   "metadata": {
    "application/vnd.databricks.v1+cell": {
     "cellMetadata": {
      "byteLimit": 2048000,
      "rowLimit": 10000
     },
     "collapsed": true,
     "inputWidgets": {},
     "nuid": "b5ea7f58-7011-4b95-8e30-432def7ae507",
     "showTitle": false,
     "tableResultSettingsMap": {},
     "title": ""
    }
   },
   "outputs": [],
   "source": [
    "\n",
    "# lê as camadas \n",
    "bronze_path = \"dbfs:/mnt/olist/Bronze/olist_order_payments_dataset\"\n",
    "silver_path = \"dbfs:/mnt/olist/Silver/olist_order_payments_dataset\"\n",
    "\n",
    "df_payments_bronze = spark.read.parquet(bronze_path)\n",
    "\n",
    "\n",
    "# transformações\n",
    "df_payments_bronze = (\n",
    "    df_payments_bronze\n",
    "    .withColumnRenamed(\"order_id\", \"pedido_id\")\n",
    "    .withColumnRenamed(\"payment_sequential\", \"sequencial_pagamento\")\n",
    "    .withColumnRenamed(\"payment_type\", \"tipo_pagamento\")\n",
    "    .withColumnRenamed(\"payment_installments\", \"parcelas_pagamento\")\n",
    "    .withColumnRenamed(\"payment_value\", \"valor_pagamento\")\n",
    "    .withColumn(\"valor_pagamento\", col(\"valor_pagamento\").cast(DecimalType(10, 2)))\n",
    "    .withColumn(\"tipo_pagamento_formatado\",\n",
    "                 when(col(\"tipo_pagamento\") == \"boleto\", \"Boleto\")\n",
    "                .when(col(\"tipo_pagamento\") == \"not_defined\", \"Indefinido\")\n",
    "                .when(col(\"tipo_pagamento\") == \"credit_card\", \"Cartao de Credito\")\n",
    "                .when(col(\"tipo_pagamento\") == \"voucher\", \"PIX\")\n",
    "                .when(col(\"tipo_pagamento\") == \"debit_card\", \"Cartao de Debito\")\n",
    "                .otherwise(col(\"tipo_pagamento\")))\n",
    "    \n",
    ")\n",
    "\n",
    "\n",
    "if DeltaTable.isDeltaTable(spark, silver_path):\n",
    "    df_payments_silver = DeltaTable.forPath(spark, silver_path)\n",
    "    df_payments_silver.alias(\"silver\").merge(df_payments_bronze.alias(\"bronze\"),\"silver.pedido_id = bronze.pedido_id AND silver.sequencial_pagamento = bronze.sequencial_pagamento\"\n",
    "        ).whenMatchedUpdateAll() \\\n",
    "        .whenNotMatchedInsertAll() \\\n",
    "        .execute()\n",
    "else:\n",
    "    df_payments_bronze.write.format(\"delta\").mode(\"overwrite\").save(silver_path)\n",
    "\n",
    "#display(spark.read.format(\"delta\").load(\"dbfs:/mnt/olist/Silver/olist_order_payments_dataset\"))"
   ]
  },
  {
   "cell_type": "markdown",
   "metadata": {
    "application/vnd.databricks.v1+cell": {
     "cellMetadata": {
      "byteLimit": 2048000,
      "rowLimit": 10000
     },
     "inputWidgets": {},
     "nuid": "9f345534-3dff-4f62-a0c8-7f65ff492d84",
     "showTitle": false,
     "tableResultSettingsMap": {},
     "title": ""
    }
   },
   "source": [
    "### tratamento tabela reviews"
   ]
  },
  {
   "cell_type": "code",
   "execution_count": 0,
   "metadata": {
    "application/vnd.databricks.v1+cell": {
     "cellMetadata": {
      "byteLimit": 2048000,
      "rowLimit": 10000
     },
     "collapsed": true,
     "inputWidgets": {},
     "nuid": "33704062-e552-404d-a6da-ba237df29755",
     "showTitle": false,
     "tableResultSettingsMap": {},
     "title": ""
    }
   },
   "outputs": [],
   "source": [
    "\n",
    "# lê as camadas \n",
    "bronze_path = \"dbfs:/mnt/olist/Bronze/olist_order_reviews_dataset\"\n",
    "silver_path = \"dbfs:/mnt/olist/Silver/olist_order_reviews_dataset\"\n",
    "\n",
    "df_reviews_bronze = spark.read.parquet(bronze_path)\n",
    "\n",
    "# transformações\n",
    "\n",
    "df_reviews_bronze = df_reviews_bronze.withColumn(\"review_score\", col(\"review_score\").cast(\"int\"))\n",
    "\n",
    "df_reviews_bronze = df_reviews_bronze.dropna(subset=[\"review_score\"])\n",
    "\n",
    "df_reviews_bronze = (\n",
    "    df_reviews_bronze\n",
    "    .withColumnRenamed(\"review_id\", \"avaliacao_id\")\n",
    "    .withColumnRenamed(\"order_id\", \"pedido_id\")\n",
    "    .withColumnRenamed(\"review_score\", \"avaliacao_score\")\n",
    "    .withColumnRenamed(\"review_comment_title\", \"titulo_comentario_avaliacao\")\n",
    "    .withColumnRenamed(\"review_comment_message\", \"mensagem_comentario_avaliacao\")\n",
    "    .withColumnRenamed(\"review_creation_date\", \"data_criacao_avaliacao\")\n",
    "    .withColumnRenamed(\"review_answer_timestamp\", \"data_resposta_avaliacao\")\n",
    "    .withColumn(\"avaliacao_score\", col(\"avaliacao_score\").cast(\"int\"))\n",
    "    .withColumn(\"data_criacao_avaliacao\", to_timestamp(\"data_criacao_avaliacao\", \"yyyy-MM-dd HH:mm:ss\"))\n",
    "    .withColumn(\"data_resposta_avaliacao\", to_timestamp(\"data_resposta_avaliacao\", \"yyyy-MM-dd HH:mm:ss\"))\n",
    ")\n",
    "\n",
    "if DeltaTable.isDeltaTable(spark, silver_path):\n",
    "    df_reviews_silver = DeltaTable.forPath(spark, silver_path)\n",
    "    df_reviews_silver.alias(\"silver\").merge(df_reviews_bronze.alias(\"bronze\"),\"silver.avaliacao_id = bronze.avaliacao_id AND silver.pedido_id = bronze.pedido_id\"\n",
    "        ).whenMatchedUpdateAll() \\\n",
    "        .whenNotMatchedInsertAll() \\\n",
    "        .execute()\n",
    "else:\n",
    "    df_reviews_bronze.write.format(\"delta\").mode(\"overwrite\").save(silver_path)\n",
    "\n",
    "#display(spark.read.format(\"delta\").load(\"dbfs:/mnt/olist/Silver/olist_order_reviews_dataset\"))\n"
   ]
  },
  {
   "cell_type": "markdown",
   "metadata": {
    "application/vnd.databricks.v1+cell": {
     "cellMetadata": {
      "byteLimit": 2048000,
      "rowLimit": 10000
     },
     "inputWidgets": {},
     "nuid": "4157b0e9-192a-494a-a245-a209157929c3",
     "showTitle": false,
     "tableResultSettingsMap": {},
     "title": ""
    }
   },
   "source": [
    "### tratamento tabela orders"
   ]
  },
  {
   "cell_type": "code",
   "execution_count": 0,
   "metadata": {
    "application/vnd.databricks.v1+cell": {
     "cellMetadata": {
      "byteLimit": 2048000,
      "rowLimit": 10000
     },
     "collapsed": true,
     "inputWidgets": {},
     "nuid": "57a28b78-83b3-4231-ba08-2dca1999d2d2",
     "showTitle": false,
     "tableResultSettingsMap": {},
     "title": ""
    }
   },
   "outputs": [],
   "source": [
    "# lê as camadas \n",
    "bronze_path = \"dbfs:/mnt/olist/Bronze/olist_orders_dataset\"\n",
    "silver_path = \"dbfs:/mnt/olist/Silver/olist_orders_dataset\"\n",
    "\n",
    "df_orders_bronze = spark.read.parquet(bronze_path)\n",
    "\n",
    "# transformações\n",
    "\n",
    "df_orders_bronze = (\n",
    "    df_orders_bronze\n",
    "    .withColumnRenamed(\"order_id\", \"pedido_id\")\n",
    "    .withColumnRenamed(\"customer_id\", \"cliente_id\")\n",
    "    .withColumnRenamed(\"order_status\", \"status_pedido\")\n",
    "    .withColumnRenamed(\"order_purchase_timestamp\", \"data_compra_pedido\")\n",
    "    .withColumnRenamed(\"order_approved_at\", \"data_aprovacao_pedido\")\n",
    "    .withColumnRenamed(\"order_delivered_carrier_date\", \"data_entrega_operadora_pedido\")\n",
    "    .withColumnRenamed(\"order_delivered_customer_date\", \"data_entrega_cliente_pedido\")\n",
    "    .withColumnRenamed(\"order_estimated_delivery_date\", \"data_entrega_estimada_pedido\")\n",
    "    .withColumn(\"status_pedido_formatado\",\n",
    "                 when(col(\"status_pedido\") == \"shipped\", \"Enviado\")\n",
    "                .when(col(\"status_pedido\") == \"canceled\", \"Cancelado\")\n",
    "                .when(col(\"status_pedido\") == \"approved\", \"Aprovado\")\n",
    "                .when(col(\"status_pedido\") == \"invoiced\", \"Faturado\")\n",
    "                .when(col(\"status_pedido\") == \"delivered\", \"Entregue\")\n",
    "                .when(col(\"status_pedido\") == \"unavailable\", \"Indisponivel\")\n",
    "                .when(col(\"status_pedido\") == \"processing\", \"Processando\")\n",
    "                .when(col(\"status_pedido\") == \"created\", \"Criado\")\n",
    "                .otherwise(col(\"status_pedido\")))\n",
    ")\n",
    "\n",
    "if DeltaTable.isDeltaTable(spark, silver_path):\n",
    "    df_orders_silver = DeltaTable.forPath(spark, silver_path)\n",
    "    df_orders_silver.alias(\"silver\").merge(df_orders_bronze.alias(\"bronze\"),\"silver.pedido_id = bronze.pedido_id\"\n",
    "        ).whenMatchedUpdateAll() \\\n",
    "        .whenNotMatchedInsertAll() \\\n",
    "        .execute()\n",
    "else:\n",
    "    df_orders_bronze.write.format(\"delta\").mode(\"overwrite\").save(silver_path)\n",
    "\n",
    "#display(spark.read.format(\"delta\").load(\"dbfs:/mnt/olist/Silver/olist_orders_dataset\"))"
   ]
  },
  {
   "cell_type": "markdown",
   "metadata": {
    "application/vnd.databricks.v1+cell": {
     "cellMetadata": {
      "byteLimit": 2048000,
      "rowLimit": 10000
     },
     "inputWidgets": {},
     "nuid": "852de50f-052d-4556-8adf-1603de23b09f",
     "showTitle": false,
     "tableResultSettingsMap": {},
     "title": ""
    }
   },
   "source": [
    "### tratamento tabela products\n",
    "\n"
   ]
  },
  {
   "cell_type": "code",
   "execution_count": 0,
   "metadata": {
    "application/vnd.databricks.v1+cell": {
     "cellMetadata": {
      "byteLimit": 2048000,
      "rowLimit": 10000
     },
     "collapsed": true,
     "inputWidgets": {},
     "nuid": "295028ba-c485-44d8-ac6e-ad5dbe372a20",
     "showTitle": false,
     "tableResultSettingsMap": {},
     "title": ""
    }
   },
   "outputs": [],
   "source": [
    "# lê as camadas \n",
    "bronze_path = \"dbfs:/mnt/olist/Bronze/olist_products_dataset\"\n",
    "silver_path = \"dbfs:/mnt/olist/Silver/olist_products_dataset\"\n",
    "\n",
    "df_products_bronze = spark.read.parquet(bronze_path)\n",
    "\n",
    "# transformações\n",
    "df_products_bronze = (\n",
    "    df_products_bronze\n",
    "    .withColumnRenamed(\"product_id\", \"produto_id\")\n",
    "    .withColumnRenamed(\"product_category_name\", \"nome_categoria_produto\")\n",
    "    .withColumnRenamed(\"product_name_lenght\", \"tamanho_nome_produto\")\n",
    "    .withColumnRenamed(\"product_description_lenght\", \"tamanho_descricao_produto\")\n",
    "    .withColumnRenamed(\"product_photos_qty\", \"quantidade_fotos_produto\")\n",
    "    .withColumnRenamed(\"product_weight_g\", \"peso_produto\")\n",
    "    .withColumnRenamed(\"product_length_cm\", \"comprimento_produto\")\n",
    "    .withColumnRenamed(\"product_height_cm\", \"altura_produto\")\n",
    "    .withColumnRenamed(\"product_width_cm\", \"largura_produto\")\n",
    "    .withColumn(\"nome_categoria_produto_formatado\", regexp_replace(col(\"nome_categoria_produto\"), \"_\", \" \"))\n",
    "    .withColumn(\"nome_categoria_produto_formatado\", regexp_replace(col(\"nome_categoria_produto_formatado\"), \"2\", \"\"))\n",
    "    .withColumn(\"nome_categoria_produto_formatado\", initcap(col(\"nome_categoria_produto_formatado\")))\n",
    ")\n",
    "\n",
    "\n",
    "if DeltaTable.isDeltaTable(spark, silver_path):\n",
    "    df_products_silver = DeltaTable.forPath(spark, silver_path)\n",
    "    df_products_silver.alias(\"silver\").merge(df_products_bronze.alias(\"bronze\"),\"silver.produto_id = bronze.produto_id\"\n",
    "        ).whenMatchedUpdateAll() \\\n",
    "        .whenNotMatchedInsertAll() \\\n",
    "        .execute()\n",
    "else:\n",
    "    df_products_bronze.write.format(\"delta\").mode(\"overwrite\").save(silver_path)\n",
    "\n",
    "#display(spark.read.format(\"delta\").load(\"dbfs:/mnt/olist/Silver/olist_products_dataset\"))"
   ]
  },
  {
   "cell_type": "markdown",
   "metadata": {
    "application/vnd.databricks.v1+cell": {
     "cellMetadata": {
      "byteLimit": 2048000,
      "rowLimit": 10000
     },
     "inputWidgets": {},
     "nuid": "e93c8f8b-7065-4e9f-90be-b34149404b5d",
     "showTitle": false,
     "tableResultSettingsMap": {},
     "title": ""
    }
   },
   "source": [
    "### tratamento tabela sellers\n"
   ]
  },
  {
   "cell_type": "code",
   "execution_count": 0,
   "metadata": {
    "application/vnd.databricks.v1+cell": {
     "cellMetadata": {
      "byteLimit": 2048000,
      "rowLimit": 10000
     },
     "collapsed": true,
     "inputWidgets": {},
     "nuid": "8e294476-1317-49e6-8355-76d2b8661018",
     "showTitle": false,
     "tableResultSettingsMap": {},
     "title": ""
    }
   },
   "outputs": [],
   "source": [
    "# lê as camadas \n",
    "bronze_path = \"dbfs:/mnt/olist/Bronze/olist_sellers_dataset\"\n",
    "silver_path = \"dbfs:/mnt/olist/Silver/olist_sellers_dataset\"\n",
    "\n",
    "df_sellers_bronze = spark.read.parquet(bronze_path)\n",
    "\n",
    "# transformações\n",
    "df_sellers_bronze = (\n",
    "    df_sellers_bronze\n",
    "    .withColumnRenamed(\"seller_id\", \"vendedor_id\")\n",
    "    .withColumnRenamed(\"seller_zip_code_prefix\", \"cep_prefixo_vendedor\")\n",
    "    .withColumnRenamed(\"seller_city\", \"cidade_vendedor\")\n",
    "    .withColumnRenamed(\"seller_state\", \"estado_vendedor\")\n",
    "    )\n",
    "\n",
    "\n",
    "if DeltaTable.isDeltaTable(spark, silver_path):\n",
    "    df_sellers_silver = DeltaTable.forPath(spark, silver_path)\n",
    "    df_sellers_silver.alias(\"silver\").merge(df_sellers_bronze.alias(\"bronze\"),\"silver.vendedor_id = bronze.vendedor_id\"\n",
    "        ).whenMatchedUpdateAll() \\\n",
    "        .whenNotMatchedInsertAll() \\\n",
    "        .execute()\n",
    "else:\n",
    "    df_sellers_bronze.write.format(\"delta\").mode(\"overwrite\").save(silver_path)\n",
    "\n",
    "#display(spark.read.format(\"delta\").load(\"dbfs:/mnt/olist/Silver/olist_sellers_dataset\"))"
   ]
  }
 ],
 "metadata": {
  "application/vnd.databricks.v1+notebook": {
   "computePreferences": null,
   "dashboards": [],
   "environmentMetadata": {
    "base_environment": "",
    "environment_version": "2"
   },
   "inputWidgetPreferences": null,
   "language": "python",
   "notebookMetadata": {
    "mostRecentlyExecutedCommandWithImplicitDF": {
     "commandId": 8732822980893648,
     "dataframes": [
      "_sqldf"
     ]
    },
    "pythonIndentUnit": 4
   },
   "notebookName": "Silver",
   "widgets": {}
  },
  "language_info": {
   "name": "python"
  }
 },
 "nbformat": 4,
 "nbformat_minor": 0
}
