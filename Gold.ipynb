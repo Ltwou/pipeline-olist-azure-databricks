{
 "cells": [
  {
   "cell_type": "markdown",
   "metadata": {
    "application/vnd.databricks.v1+cell": {
     "cellMetadata": {},
     "inputWidgets": {},
     "nuid": "7b4721e9-6630-4aa4-8f28-2a348a69b7bb",
     "showTitle": false,
     "tableResultSettingsMap": {},
     "title": ""
    }
   },
   "source": [
    "### dim_TipoPagamento"
   ]
  },
  {
   "cell_type": "code",
   "execution_count": 0,
   "metadata": {
    "application/vnd.databricks.v1+cell": {
     "cellMetadata": {
      "byteLimit": 2048000,
      "implicitDf": true,
      "rowLimit": 10000
     },
     "inputWidgets": {},
     "nuid": "32c95278-6e17-47a0-b15c-ef48c609fae8",
     "showTitle": false,
     "tableResultSettingsMap": {},
     "title": ""
    }
   },
   "outputs": [],
   "source": [
    "%sql\n",
    "USE SCHEMA olist;\n",
    "\n",
    "CREATE TABLE IF NOT EXISTS dim_TipoPagamento (\n",
    "  id BIGINT GENERATED ALWAYS AS IDENTITY,\n",
    "  nm_tipo_pagamento STRING\n",
    ")\n",
    "USING DELTA;\n"
   ]
  },
  {
   "cell_type": "code",
   "execution_count": 0,
   "metadata": {
    "application/vnd.databricks.v1+cell": {
     "cellMetadata": {
      "byteLimit": 2048000,
      "rowLimit": 10000
     },
     "collapsed": true,
     "inputWidgets": {},
     "nuid": "7571e388-3ef9-4127-be1b-6da338998ce5",
     "showTitle": false,
     "tableResultSettingsMap": {},
     "title": ""
    }
   },
   "outputs": [],
   "source": [
    "\n",
    "from delta.tables import DeltaTable\n",
    "\n",
    "df_tipo_pagamento = spark.sql(\"\"\"\n",
    "    SELECT DISTINCT tipo_pagamento_formatado\n",
    "    FROM delta.`dbfs:/mnt/olist/Silver/olist_order_payments_dataset`\n",
    "\"\"\")\n",
    "\n",
    "df_dim_pagamento = DeltaTable.forName(spark, \"olist.dim_TipoPagamento\")\n",
    "\n",
    "df_dim_pagamento.alias(\"gold\").merge(df_tipo_pagamento.alias(\"silver\"),\"gold.nm_tipo_pagamento = silver.tipo_pagamento_formatado\"\n",
    "        ).whenNotMatchedInsert(\n",
    "    values={\"nm_tipo_pagamento\": \"silver.tipo_pagamento_formatado\"}\n",
    ").execute()\n",
    "\n",
    "#display(display(spark.read.table(\"olist.dim_TipoPagamento\")))\n",
    "\n"
   ]
  },
  {
   "cell_type": "markdown",
   "metadata": {
    "application/vnd.databricks.v1+cell": {
     "cellMetadata": {},
     "inputWidgets": {},
     "nuid": "69153eb6-99e6-49f6-8764-b57fab4456a8",
     "showTitle": false,
     "tableResultSettingsMap": {},
     "title": ""
    }
   },
   "source": [
    "### dim_Produto"
   ]
  },
  {
   "cell_type": "code",
   "execution_count": 0,
   "metadata": {
    "application/vnd.databricks.v1+cell": {
     "cellMetadata": {
      "byteLimit": 2048000,
      "implicitDf": true,
      "rowLimit": 10000
     },
     "collapsed": true,
     "inputWidgets": {},
     "nuid": "ad057017-d340-48f8-b649-365cd6cfbf56",
     "showTitle": false,
     "tableResultSettingsMap": {},
     "title": ""
    }
   },
   "outputs": [],
   "source": [
    "%sql\n",
    "USE SCHEMA olist;\n",
    "\n",
    "CREATE TABLE IF NOT EXISTS dim_CategoriaProduto (\n",
    "  id BIGINT GENERATED ALWAYS AS IDENTITY,\n",
    "  nm_categoria_produto STRING\n",
    ")\n",
    "USING DELTA;"
   ]
  },
  {
   "cell_type": "code",
   "execution_count": 0,
   "metadata": {
    "application/vnd.databricks.v1+cell": {
     "cellMetadata": {
      "byteLimit": 2048000,
      "implicitDf": true,
      "rowLimit": 10000
     },
     "collapsed": true,
     "inputWidgets": {},
     "nuid": "ee06aa3e-54ad-4935-84cc-43481adb318c",
     "showTitle": false,
     "tableResultSettingsMap": {},
     "title": ""
    }
   },
   "outputs": [],
   "source": [
    "from delta.tables import DeltaTable\n",
    "\n",
    "df_categoria_produto = spark.sql('''\n",
    "    select distinct \n",
    "    nome_categoria_produto_formatado\n",
    "FROM delta.`dbfs:/mnt/olist/Silver/olist_products_dataset`\n",
    "    where nome_categoria_produto_formatado is not null\n",
    "''')\n",
    "\n",
    "df_dim_categoria_produto = DeltaTable.forName(spark, \"olist.dim_CategoriaProduto\")\n",
    "\n",
    "df_dim_categoria_produto.alias(\"gold\").merge(df_categoria_produto.alias(\"silver\"),\"gold.nm_categoria_produto = silver.nome_categoria_produto_formatado\"\n",
    "        ).whenNotMatchedInsert(\n",
    "    values={\"nm_categoria_produto\": \"silver.nome_categoria_produto_formatado\"}\n",
    ").execute()\n",
    "\n",
    "#display(display(spark.read.table(\"olist.dim_CategoriaProduto\")))\n",
    "\n"
   ]
  },
  {
   "cell_type": "markdown",
   "metadata": {
    "application/vnd.databricks.v1+cell": {
     "cellMetadata": {},
     "inputWidgets": {},
     "nuid": "87af0cc9-4223-4c4f-a702-43afcffcc461",
     "showTitle": false,
     "tableResultSettingsMap": {},
     "title": ""
    }
   },
   "source": [
    "### dim_StatusPedido"
   ]
  },
  {
   "cell_type": "code",
   "execution_count": 0,
   "metadata": {
    "application/vnd.databricks.v1+cell": {
     "cellMetadata": {
      "byteLimit": 2048000,
      "implicitDf": true,
      "rowLimit": 10000
     },
     "collapsed": true,
     "inputWidgets": {},
     "nuid": "74aab31f-debf-4186-87e2-630d56313f79",
     "showTitle": false,
     "tableResultSettingsMap": {},
     "title": ""
    }
   },
   "outputs": [],
   "source": [
    "%sql\n",
    "USE SCHEMA olist;\n",
    "\n",
    "CREATE TABLE IF NOT EXISTS dim_StatusPedido (\n",
    "  id BIGINT GENERATED ALWAYS AS IDENTITY,\n",
    "  nm_status_pedido STRING\n",
    ")\n",
    "USING DELTA;"
   ]
  },
  {
   "cell_type": "code",
   "execution_count": 0,
   "metadata": {
    "application/vnd.databricks.v1+cell": {
     "cellMetadata": {
      "byteLimit": 2048000,
      "implicitDf": true,
      "rowLimit": 10000
     },
     "collapsed": true,
     "inputWidgets": {},
     "nuid": "c7518c9f-96c4-4ea3-a121-41e26b2b1f87",
     "showTitle": false,
     "tableResultSettingsMap": {},
     "title": ""
    }
   },
   "outputs": [],
   "source": [
    "from delta.tables import DeltaTable\n",
    "\n",
    "df_status_pedido = spark.sql('''\n",
    "select distinct\n",
    "  status_pedido_formatado\n",
    "\n",
    "from delta.`dbfs:/mnt/olist/Silver/olist_orders_dataset`\n",
    "''')\n",
    "\n",
    "df_dim_status_pedido = DeltaTable.forName(spark, \"olist.dim_StatusPedido\")\n",
    "\n",
    "df_dim_status_pedido.alias(\"gold\").merge(df_status_pedido.alias(\"silver\"),\"gold.nm_status_pedido = silver.status_pedido_formatado\"\n",
    "        ).whenNotMatchedInsert(\n",
    "    values={\"nm_status_pedido\": \"silver.status_pedido_formatado\"}\n",
    ").execute()\n",
    "\n",
    "#display(display(spark.read.table(\"olist.dim_StatusPedido\")))\n"
   ]
  },
  {
   "cell_type": "markdown",
   "metadata": {
    "application/vnd.databricks.v1+cell": {
     "cellMetadata": {},
     "inputWidgets": {},
     "nuid": "302bf40d-784e-4bfa-8cc2-abaf8ca2d556",
     "showTitle": false,
     "tableResultSettingsMap": {},
     "title": ""
    }
   },
   "source": [
    "### dim_vendendor"
   ]
  },
  {
   "cell_type": "code",
   "execution_count": 0,
   "metadata": {
    "application/vnd.databricks.v1+cell": {
     "cellMetadata": {
      "byteLimit": 2048000,
      "implicitDf": true,
      "rowLimit": 10000
     },
     "collapsed": true,
     "inputWidgets": {},
     "nuid": "29402cc1-2c81-4fe9-afda-3c7cb7bfd324",
     "showTitle": false,
     "tableResultSettingsMap": {},
     "title": ""
    }
   },
   "outputs": [],
   "source": [
    "%sql\n",
    "USE SCHEMA olist;\n",
    "\n",
    "\n",
    "CREATE TABLE IF NOT EXISTS dim_vendedor (\n",
    "  id BIGINT GENERATED ALWAYS AS IDENTITY\n",
    "  ,codigo STRING\n",
    "  ,matricula STRING\n",
    "  ,estado STRING\n",
    ")\n",
    "USING DELTA;"
   ]
  },
  {
   "cell_type": "code",
   "execution_count": 0,
   "metadata": {
    "application/vnd.databricks.v1+cell": {
     "cellMetadata": {
      "byteLimit": 2048000,
      "implicitDf": true,
      "rowLimit": 10000
     },
     "collapsed": true,
     "inputWidgets": {},
     "nuid": "202fd337-2c5f-47a5-b008-dc54454c91af",
     "showTitle": false,
     "tableResultSettingsMap": {},
     "title": ""
    }
   },
   "outputs": [],
   "source": [
    "from delta.tables import DeltaTable\n",
    "\n",
    "df_vendedor = spark.sql('''\n",
    "select distinct\n",
    "   vendedor_id\n",
    "  ,concat(left(vendedor_id,2), lpad(cep_prefixo_vendedor,5,0)) matricula\n",
    "  ,estado_vendedor\n",
    "\n",
    "from delta.`dbfs:/mnt/olist/Silver/olist_sellers_dataset`\n",
    "''')\n",
    "\n",
    "df_dim_vendedor = DeltaTable.forName(spark, \"olist.dim_vendedor\")\n",
    "\n",
    "df_dim_vendedor.alias(\"gold\").merge(df_vendedor.alias(\"silver\"),\"gold.codigo = silver.vendedor_id\"\n",
    "        ).whenNotMatchedInsert(\n",
    "    values={\"matricula\": \"silver.matricula\"\n",
    "            ,\"codigo\": \"silver.vendedor_id\"\n",
    "            ,\"estado\": \"silver.estado_vendedor\"}\n",
    ").execute()\n",
    "\n",
    "#display(display(spark.read.table(\"olist.dim_vendedor\")))\n",
    "\n"
   ]
  },
  {
   "cell_type": "markdown",
   "metadata": {
    "application/vnd.databricks.v1+cell": {
     "cellMetadata": {},
     "inputWidgets": {},
     "nuid": "6a12fd6e-e6f1-4a5a-8d5f-665e720d51fa",
     "showTitle": false,
     "tableResultSettingsMap": {},
     "title": ""
    }
   },
   "source": [
    "### fato_vendas"
   ]
  },
  {
   "cell_type": "code",
   "execution_count": 0,
   "metadata": {
    "application/vnd.databricks.v1+cell": {
     "cellMetadata": {
      "byteLimit": 2048000,
      "implicitDf": true,
      "rowLimit": 10000
     },
     "collapsed": true,
     "inputWidgets": {},
     "nuid": "cc8c0552-c8e7-4960-937d-90de37f030be",
     "showTitle": false,
     "tableResultSettingsMap": {},
     "title": ""
    }
   },
   "outputs": [],
   "source": [
    "%sql\n",
    "USE SCHEMA olist;\n",
    "\n",
    "\n",
    "CREATE TABLE IF NOT EXISTS fato_vendas (\n",
    "   sk_tempo INTEGER\n",
    "  ,sk_TipoPagamento INTEGER\n",
    "  ,sk_TipoCategoriaProduto INTEGER\n",
    "  ,Estado STRING\n",
    "  ,sk_StatusPedido INTEGER\n",
    "  ,sk_vendedor INTEGER\n",
    "  ,qtd_pedidos INTEGER\n",
    "  ,qtd_itens INTEGER\n",
    "  ,vl_faturamento decimal(15,2)\n",
    "  ,qtd_clientes INTEGER\n",
    "  ,total_avaliacao_score INTEGER\n",
    ")\n",
    "USING DELTA;"
   ]
  },
  {
   "cell_type": "code",
   "execution_count": 0,
   "metadata": {
    "application/vnd.databricks.v1+cell": {
     "cellMetadata": {
      "byteLimit": 2048000,
      "implicitDf": true,
      "rowLimit": 10000
     },
     "collapsed": true,
     "inputWidgets": {},
     "nuid": "45216d29-7e46-4633-865a-c5fbd5c8dc4a",
     "showTitle": false,
     "tableResultSettingsMap": {},
     "title": ""
    }
   },
   "outputs": [],
   "source": [
    "from delta.tables import DeltaTable\n",
    "\n",
    "df_vendas = spark.sql('''\n",
    "SELECT \n",
    "  concat(year(data_compra_pedido),lpad(month(data_compra_pedido),2,'0'),'01') sk_tempo   \n",
    "  ,tp.id sk_TipoPagamento\n",
    "  ,coalesce(cp.id,77) sk_TipoCategoriaProduto\n",
    "  ,c.Estado\n",
    "  ,sp.id sk_StatusPedido\n",
    "  ,v.id sk_vendedor\n",
    "  ,count(o.pedido_id) qtd_pedidos\n",
    "  ,sum(i.pedido_item_id) qtd_itens\n",
    "  ,sum(i.preco * i.pedido_item_id) vl_faturamento\n",
    "  ,count(distinct o.cliente_id) qtd_clientes\n",
    "  ,sum(r.avaliacao_score) total_avaliacao_score\n",
    " \n",
    "FROM delta.`dbfs:/mnt/olist/Silver/olist_orders_dataset` as o\n",
    "  join delta.`dbfs:/mnt/olist/Silver/olist_order_items_dataset` as i on o.pedido_id = i.pedido_id\n",
    "  join delta.`dbfs:/mnt/olist/Silver/olist_order_reviews_dataset` as r on o.pedido_id = r.pedido_id\n",
    "  join delta.`dbfs:/mnt/olist/Silver/olist_order_payments_dataset` as p on o.pedido_id = p.pedido_id\n",
    "  join delta.`dbfs:/mnt/olist/Silver/olist_products_dataset` as pr on i.produto_id = pr.produto_id\n",
    "  left join olist.dim_CategoriaProduto as cp on cp.nm_categoria_produto = pr.nome_categoria_produto_formatado\n",
    "  join olist.dim_TipoPagamento as tp on tp.nm_tipo_pagamento = p.tipo_pagamento_formatado\n",
    "  join delta.`dbfs:/mnt/olist/Silver/olist_customers_dataset` as c on c.cliente_id = o.cliente_id\n",
    "  Join olist.dim_StatusPedido as sp on sp.nm_status_pedido = o.status_pedido_formatado\n",
    "  join olist.dim_vendedor as v on v.codigo = i.vendedor_id\n",
    "group by \n",
    "  concat(year(data_compra_pedido),lpad(month(data_compra_pedido),2,'0'),'01')\n",
    "  ,tp.id\n",
    "  ,coalesce(cp.id,77)\n",
    "  ,c.Estado\n",
    "  ,sp.id \n",
    "  ,v.id \n",
    "''')\n",
    "\n",
    "df_fato_vendas = DeltaTable.forName(spark, \"olist.fato_vendas\")\n",
    "\n",
    "df_fato_vendas.alias(\"gold\").merge(df_vendas.alias(\"silver\"),\"gold.sk_tempo = silver.sk_tempo AND gold.sk_TipoPagamento = silver.sk_TipoPagamento AND gold.sk_TipoCategoriaProduto = silver.sk_TipoCategoriaProduto AND gold.Estado = silver.Estado AND gold.sk_StatusPedido = silver.sk_StatusPedido AND gold.sk_vendedor = silver.sk_vendedor\"\n",
    "        ).whenMatchedUpdateAll() \\\n",
    "        .whenNotMatchedInsertAll() \\\n",
    "        .execute()\n",
    "\n",
    "display(display(spark.read.table(\"olist.fato_vendas\")))\n",
    "\n",
    "\n",
    "\n"
   ]
  },
  {
   "cell_type": "code",
   "execution_count": 0,
   "metadata": {
    "application/vnd.databricks.v1+cell": {
     "cellMetadata": {
      "byteLimit": 2048000,
      "implicitDf": true,
      "rowLimit": 10000
     },
     "collapsed": true,
     "inputWidgets": {},
     "nuid": "71e8f07e-ffd1-4413-a474-319ae5dce22b",
     "showTitle": false,
     "tableResultSettingsMap": {},
     "title": ""
    }
   },
   "outputs": [],
   "source": [
    "%sql\n",
    "USE CATALOG hive_metastore;\n",
    "USE SCHEMA olist;\n",
    "select max(sk_tempo), min(sk_tempo) from olist.fato_vendas"
   ]
  }
 ],
 "metadata": {
  "application/vnd.databricks.v1+notebook": {
   "computePreferences": null,
   "dashboards": [],
   "environmentMetadata": {
    "base_environment": "",
    "environment_version": "2"
   },
   "inputWidgetPreferences": null,
   "language": "python",
   "notebookMetadata": {
    "mostRecentlyExecutedCommandWithImplicitDF": {
     "commandId": 8193822969191427,
     "dataframes": [
      "_sqldf"
     ]
    },
    "pythonIndentUnit": 4
   },
   "notebookName": "Gold",
   "widgets": {}
  },
  "language_info": {
   "name": "python"
  }
 },
 "nbformat": 4,
 "nbformat_minor": 0
}
